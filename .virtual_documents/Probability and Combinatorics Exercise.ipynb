get_ipython().run_line_magic("matplotlib", " inline")


import numpy as np
import matplotlib.pyplot as plt
import scipy.stats
import scipy.io.wavfile
from scipy.fftpack import fft, fftfreq
# Write your imports here








def plot_binomial_distribution(x, n, p, title =""):
    """
    Plots the binomial distribution with parameters n and p. The parameter x specifies the values
    where the function is evaluated at
    """
    binomial = scipy.stats.binom.pmf(x, n, p)
    plt.scatter(x, binomial, color = "blue")
    plt.vlines(x, 0, binomial, color = "blue", linewidth = 5, alpha = 0.5)
    plt.title(title)
    plt.show()
    
    
def plot_gaussian_distribution(mu, sigma, x):
    """
    Plots the Gaussian distribution with parameters mu and sigma. The parameter x specifies 
    the values where the function is evaluated at
    """
    gaussian = scipy.stats.norm.pdf(x, loc = mu, scale = sigma)
    plt.plot(x, gaussian, color = "blue")
    plt.show()
    
x_binomial = np.arange(1, 10)
plot_binomial_distribution(x_binomial, 10, 0.5)


x_gaussian = np.linspace(-3, 3, 1000)
plot_gaussian_distribution(0, 1, x_gaussian)





for n in [5, 8, 10, 15, 20, 30, 35, 40, 50, 60]:
    x_binomial = np.arange(1, 50)
    plt.ylim(0, 0.35)
    plot_binomial_distribution(x_binomial, n, 0.5, title = f"n = {n}")


for p in [0.1, 0.3, 0.5, 0.8, 1]:
    x_binomial = np.arange(1, 50)
    plot_binomial_distribution(x_binomial, 30, p, title = f"p={p}")


x_gaussian = np.linspace(-7, 7, 1000)
for mu in [0, -3, 2, 3]:
    plt.axvline(mu, color = "red")
    plot_gaussian_distribution(mu, 1, x_gaussian)


x_gaussian = np.linspace(-7, 7, 1000)
for sigma in [0.5, 1, 2, 2.5, 3]:
    plot_gaussian_distribution(0, sigma, x_gaussian)





x = np.linspace(0, 2000)
sample_values =3*x**2
all_sums=[]
for experiments in range(1000):
    all_sums.append(np.random.choice(sample_values, 25).sum())
    
plt.hist(all_sums, bins=20)
plt.show()


x = np.linspace(0, 2000)
sample_values = 2*x
all_sums=[]
for experiments in range(10000):
    all_sums.append(np.random.choice(sample_values, 25).sum())
plt.hist(all_sums, bins = 25)
plt.show()


x = np.linspace(0, 2000)
sample_values = 4 * abs(x-0.5)
all_sums=[]
for experiments in range(10000):
    all_sums.append(np.random.choice(sample_values, 25).sum())
plt.hist(all_sums, bins = 25)
plt.show()


x = np.linspace(0, 2000)
sample_values = 2 - 4 * abs(x-0.5)
all_sums=[]
for experiments in range(10000):
    all_sums.append(np.random.choice(sample_values, 25).sum())
plt.hist(all_sums, bins = 25)
plt.show()    


sample_values = [1]*2000
all_sums = []
for experiments in range(10000):
    all_sums.append(np.random.choice(sample_values, 25).sum())
plt.hist(all_sums, bins=25)
plt.show()


x = np.linspace(0, 2000)
sample_values = np.exp(np.sin(3*x**2))
all_sums = []
for experiments in range(10000):
    all_sums.append(np.random.choice(sample_values, 25).sum())
plt.hist(all_sums, bins=25)
plt.show()








def calculate_birthday_probability(r):
    """
    Returns the probability of r people sharing the same birthday. A year is
    supposed to have 365 days
    """
    if r <= 1:
        return 0.0
    if r > 365:
        return 1.0
    probability_no_match = 1.0

    fractions = (365 - np.arange(r))/365.0
    probability_no_match = np.prod(fractions)

    return 1 - probability_no_match

number_of_people = np.arange(2, 366)
probabilities = [calculate_birthday_probability(r) for r in number_of_people]

crossing_index = next(i for i, p in enumerate(probabilities) if p >= 0.5)
crossing_people = number_of_people[crossing_index]
crossing_probability = probabilities[crossing_index] 

print(f"Probability ≥ 0.5 first occurs at {crossing_people} people (p = {crossing_probability:.4f}).")

plt.figure(figsize=(10, 6))
plt.xlim(number_of_people[0], number_of_people[-1])
plt.ylim(0, 1.1)
plt.vlines(number_of_people, 0, probabilities, alpha=0.4)
plt.scatter(number_of_people, probabilities, s=10)
plt.hlines(0.5, number_of_people[0], number_of_people[-1], linestyles='--')
plt.vlines(crossing_people, 0, crossing_probability, linestyles='--')

plt.xlabel("Number of people")
plt.ylabel("Probability")
plt.title("Probability of at least two people sharing a birthday")
plt.grid(axis="y", linestyle='--', alpha=0.7)
plt.show()





# Write your code here





t = np.linspace(0, 2 * np.pi, 2000)


x = -(721 * np.sin(t)) / 4 + 196 / 3 * np.sin(2 * t) - 86 / 3 * np.sin(3 * t) - 131 / 2 * np.sin(4 * t) + 477 / 14 * np.sin(5 * t) + 27 * np.sin(6 * t) - 29 / 2 * np.sin(7 * t) + 68 / 5 * np.sin(8 * t) + 1 / 10 * np.sin(9 * t) + 23 / 4 * np.sin(10 * t) - 19 / 2 * np.sin(12 * t) - 85 / 21 * np.sin(13 * t) + 2 / 3 * np.sin(14 * t) + 27 / 5 * np.sin(15 * t) + 7 / 4 * np.sin(16 * t) + 17 / 9 * np.sin(17 * t) - 4 * np.sin(18 * t) - 1 / 2 * np.sin(19 * t) + 1 / 6 * np.sin(20 * t) + 6 / 7 * np.sin(21 * t) - 1 / 8 * np.sin(22 * t) + 1 / 3 * np.sin(23 * t) + 3 / 2 * np.sin(24 * t) + 13 / 5 * np.sin(25 * t) + np.sin(26 * t) - 2 * np.sin(27 * t) + 3 / 5 * np.sin(28 * t) - 1 / 5 * np.sin(29 * t) + 1 / 5 * np.sin(30 * t) + (2337 * np.cos(t)) / 8 - 43 / 5 * np.cos(2 * t) + 322 / 5 * np.cos(3 * t) - 117 / 5 * np.cos(4 * t) - 26 / 5 * np.cos(5 * t) - 23 / 3 * np.cos(6 * t) + 143 / 4 * np.cos(7 * t) - 11 / 4 * np.cos(8 * t) - 31 / 3 * np.cos(9 * t) - 13 / 4 * np.cos(10 * t) - 9 / 2 * np.cos(11 * t) + 41 / 20 * np.cos(12 * t) + 8 * np.cos(13 * t) + 2 / 3 * np.cos(14 * t) + 6 * np.cos(15 * t) + 17 / 4 * np.cos(16 * t) - 3 / 2 * np.cos(17 * t) - 29 / 10 * np.cos(18 * t) + 11 / 6 * np.cos(19 * t) + 12 / 5 * np.cos(20 * t) + 3 / 2 * np.cos(21 * t) + 11 / 12 * np.cos(22 * t) - 4 / 5 * np.cos(23 * t) + np.cos(24 * t) + 17 / 8 * np.cos(25 * t) - 7 / 2 * np.cos(26 * t) - 5 / 6 * np.cos(27 * t) - 11 / 10 * np.cos(28 * t) + 1 / 2 * np.cos(29 * t) - 1 / 5 * np.cos(30 * t)
y = -(637 * np.sin(t)) / 2 - 188 / 5 * np.sin(2 * t) - 11 / 7 * np.sin(3 * t) - 12 / 5 * np.sin(4 * t) + 11 / 3 * np.sin(5 * t) - 37 / 4 * np.sin(6 * t) + 8 / 3 * np.sin(7 * t) + 65 / 6 * np.sin(8 * t) - 32 / 5 * np.sin(9 * t) - 41 / 4 * np.sin(10 * t) - 38 / 3 * np.sin(11 * t) - 47 / 8 * np.sin(12 * t) + 5 / 4 * np.sin(13 * t) - 41 / 7 * np.sin(14 * t) - 7 / 3 * np.sin(15 * t) - 13 / 7 * np.sin(16 * t) + 17 / 4 * np.sin(17 * t) - 9 / 4 * np.sin(18 * t) + 8 / 9 * np.sin(19 * t) + 3 / 5 * np.sin(20 * t) - 2 / 5 * np.sin(21 * t) + 4 / 3 * np.sin(22 * t) + 1 / 3 * np.sin(23 * t) + 3 / 5 * np.sin(24 * t) - 3 / 5 * np.sin(25 * t) + 6 / 5 * np.sin(26 * t) - 1 / 5 * np.sin(27 * t) + 10 / 9 * np.sin(28 * t) + 1 / 3 * np.sin(29 * t) - 3 / 4 * \
    np.sin(30 * t) - (125 * np.cos(t)) / 2 - 521 / 9 * np.cos(2 * t) - 359 / 3 * np.cos(3 * t) + 47 / 3 * np.cos(4 * t) - 33 / 2 * np.cos(5 * t) - 5 / 4 * np.cos(6 * t) + 31 / 8 * np.cos(7 * t) + 9 / 10 * np.cos(8 * t) - 119 / 4 * np.cos(9 * t) - 17 / 2 * np.cos(10 * t) + 22 / 3 * np.cos(11 * t) + 15 / 4 * np.cos(12 * t) - 5 / 2 * np.cos(13 * t) + 19 / 6 * np.cos(14 * t) + \
    7 / 4 * np.cos(15 * t) + 31 / 4 * np.cos(16 * t) - np.cos(17 * t) + 11 / 10 * np.cos(18 * t) - 2 / 3 * np.cos(19 * t) + 13 / 3 * np.cos(20 * t) - 5 / 4 * np.cos(21 * t) + 2 / 3 * np.cos(
        22 * t) + 1 / 4 * np.cos(23 * t) + 5 / 6 * np.cos(24 * t) + 3 / 4 * np.cos(26 * t) - 1 / 2 * np.cos(27 * t) - 1 / 10 * np.cos(28 * t) - 1 / 3 * np.cos(29 * t) - 1 / 19 * np.cos(30 * t)


plt.gca().set_aspect("equal")
plt.plot(x, y)
plt.show()











bitrate, audio = scipy.io.wavfile.read("c-note.wav")
left_channel = audio[:, 0]
right_channel = audio[:, 1]
plt.plot(left_channel)
plt.xlabel("Sample number") # To get seconds, divide by the bitrate
plt.ylabel("Amplitude")
plt.show()


left_fft = fft(left_channel)

# fftfreq() returns the frequences in number of cycles per sample. Since we have `bitrate` samples in one second,
# to get the frequencies in Hz, we have to multiply by the bitrate
frequencies = fftfreq(len(left_channel)) * bitrate

plt.plot(frequencies, left_fft)
plt.show()





plt.plot(frequencies, left_fft)
plt.xlim((0, 15000))
plt.xlabel("Frequency [Hz]")
plt.ylabel("Amplitude")
plt.show()





plt.plot(frequencies, left_fft)
plt.xlim((240, 290))
plt.xlabel("Frequency [Hz]")
plt.ylabel("Amplitude")
plt.show()


















